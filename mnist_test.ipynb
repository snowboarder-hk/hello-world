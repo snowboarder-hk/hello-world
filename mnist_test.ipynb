{
  "nbformat": 4,
  "nbformat_minor": 0,
  "metadata": {
    "colab": {
      "name": "Untitled21.ipynb",
      "provenance": [],
      "authorship_tag": "ABX9TyPE/EGcaxchcg0KNj5a/Jm/",
      "include_colab_link": true
    },
    "kernelspec": {
      "name": "python3",
      "display_name": "Python 3"
    }
  },
  "cells": [
    {
      "cell_type": "markdown",
      "metadata": {
        "id": "view-in-github",
        "colab_type": "text"
      },
      "source": [
        "<a href=\"https://colab.research.google.com/github/snowboarder-hk/hello-world/blob/master/mnist_test.ipynb\" target=\"_parent\"><img src=\"https://colab.research.google.com/assets/colab-badge.svg\" alt=\"Open In Colab\"/></a>"
      ]
    },
    {
      "cell_type": "code",
      "metadata": {
        "id": "jr8pjYePZ8Eu",
        "colab_type": "code",
        "colab": {
          "base_uri": "https://localhost:8080/",
          "height": 68
        },
        "outputId": "e17674e7-bdd0-4ae5-930a-f97cd51ec5a9"
      },
      "source": [
        "# https://qiita.com/fukuit/items/b3fa460577a0ea139c88 reference\n",
        "from keras.datasets import mnist\n",
        "(x_train, y_train), (x_test, y_test) = mnist.load_data()"
      ],
      "execution_count": 1,
      "outputs": [
        {
          "output_type": "stream",
          "text": [
            "Using TensorFlow backend.\n"
          ],
          "name": "stderr"
        },
        {
          "output_type": "stream",
          "text": [
            "Downloading data from https://s3.amazonaws.com/img-datasets/mnist.npz\n",
            "11493376/11490434 [==============================] - 0s 0us/step\n"
          ],
          "name": "stdout"
        }
      ]
    },
    {
      "cell_type": "code",
      "metadata": {
        "id": "d2VnxmRIafwo",
        "colab_type": "code",
        "colab": {}
      },
      "source": [
        "from sklearn.model_selection import train_test_split\n",
        "x_train1, x_valid, y_train1, y_valid = train_test_split(x_train, y_train, test_size=0.175)"
      ],
      "execution_count": 2,
      "outputs": []
    },
    {
      "cell_type": "code",
      "metadata": {
        "id": "1O7v0DIYandu",
        "colab_type": "code",
        "colab": {}
      },
      "source": [
        "from keras.models import Sequential\n",
        "from keras.layers import Dense, Dropout, Flatten\n",
        "from keras.layers import Conv2D, MaxPooling2D\n",
        "\n",
        "model = Sequential()\n",
        "model.add(Conv2D(32, kernel_size=(3, 3), activation='relu', input_shape=(28, 28, 1)))\n",
        "model.add(Conv2D(64, (3, 3), activation='relu'))\n",
        "model.add(MaxPooling2D(pool_size=(2, 2)))\n",
        "model.add(Dropout(0.25))\n",
        "model.add(Flatten())\n",
        "model.add(Dense(128, activation='relu'))\n",
        "model.add(Dropout(0.5))\n",
        "model.add(Dense(10, activation='softmax'))"
      ],
      "execution_count": 3,
      "outputs": []
    },
    {
      "cell_type": "code",
      "metadata": {
        "id": "-XzX942-asP0",
        "colab_type": "code",
        "colab": {}
      },
      "source": [
        "# 28 x 28の画像がgrayscaleで1chなので、28, 28, 1にreshapeする\n",
        "x_train = x_train.reshape(x_train.shape[0], 28, 28, 1)\n",
        "x_valid = x_valid.reshape(x_valid.shape[0], 28, 28, 1)\n",
        "x_test = x_test.reshape(x_test.shape[0], 28, 28, 1)\n",
        "\n",
        "# 0-255の整数値を0〜1の小数に変換する\n",
        "# MNISTって必ずこの処理入るけれど、意味あるのかな\n",
        "x_train = x_train.astype('float32')\n",
        "x_valid = x_valid.astype('float32')\n",
        "x_test = x_test.astype('float32')\n",
        "x_train /= 255\n",
        "x_valid /= 255\n",
        "x_test /= 255\n",
        "\n",
        "import keras\n",
        "# one-hot vector形式に変換する\n",
        "y_train = keras.utils.to_categorical(y_train, 10)\n",
        "y_valid = keras.utils.to_categorical(y_valid, 10)\n",
        "y_test = keras.utils.to_categorical(y_test, 10)"
      ],
      "execution_count": 5,
      "outputs": []
    },
    {
      "cell_type": "code",
      "metadata": {
        "id": "ocic3IY0a0NN",
        "colab_type": "code",
        "colab": {
          "base_uri": "https://localhost:8080/",
          "height": 374
        },
        "outputId": "d15683f7-c593-4615-b2ea-5834b23f39c3"
      },
      "source": [
        "from keras.optimizers import RMSprop\n",
        "\n",
        "model.compile(loss='categorical_crossentropy',\n",
        "              optimizer=RMSprop(),\n",
        "              metrics=['accuracy'])\n",
        "\n",
        "history = model.fit(x_train, y_train,\n",
        "                    batch_size=128,\n",
        "                    epochs=10,\n",
        "                    verbose=1,\n",
        "                    validation_data=(x_valid, y_valid))"
      ],
      "execution_count": 6,
      "outputs": [
        {
          "output_type": "stream",
          "text": [
            "Train on 60000 samples, validate on 10500 samples\n",
            "Epoch 1/10\n",
            "60000/60000 [==============================] - 139s 2ms/step - loss: 0.8925 - accuracy: 0.7138 - val_loss: 0.3232 - val_accuracy: 0.9032\n",
            "Epoch 2/10\n",
            "60000/60000 [==============================] - 140s 2ms/step - loss: 0.3977 - accuracy: 0.8795 - val_loss: 0.2371 - val_accuracy: 0.9312\n",
            "Epoch 3/10\n",
            "60000/60000 [==============================] - 140s 2ms/step - loss: 0.3438 - accuracy: 0.8970 - val_loss: 0.1895 - val_accuracy: 0.9460\n",
            "Epoch 4/10\n",
            "60000/60000 [==============================] - 140s 2ms/step - loss: 0.3083 - accuracy: 0.9076 - val_loss: 0.1706 - val_accuracy: 0.9510\n",
            "Epoch 5/10\n",
            "60000/60000 [==============================] - 140s 2ms/step - loss: 0.2717 - accuracy: 0.9194 - val_loss: 0.1528 - val_accuracy: 0.9567\n",
            "Epoch 6/10\n",
            "60000/60000 [==============================] - 140s 2ms/step - loss: 0.2497 - accuracy: 0.9271 - val_loss: 0.1288 - val_accuracy: 0.9628\n",
            "Epoch 7/10\n",
            "60000/60000 [==============================] - 139s 2ms/step - loss: 0.2227 - accuracy: 0.9361 - val_loss: 0.1209 - val_accuracy: 0.9657\n",
            "Epoch 8/10\n",
            "60000/60000 [==============================] - 140s 2ms/step - loss: 0.1982 - accuracy: 0.9422 - val_loss: 0.1018 - val_accuracy: 0.9692\n",
            "Epoch 9/10\n",
            "60000/60000 [==============================] - 140s 2ms/step - loss: 0.1747 - accuracy: 0.9489 - val_loss: 0.0845 - val_accuracy: 0.9739\n",
            "Epoch 10/10\n",
            "60000/60000 [==============================] - 140s 2ms/step - loss: 0.1571 - accuracy: 0.9538 - val_loss: 0.0760 - val_accuracy: 0.9775\n"
          ],
          "name": "stdout"
        }
      ]
    },
    {
      "cell_type": "code",
      "metadata": {
        "id": "xEIJxmpybEWn",
        "colab_type": "code",
        "colab": {
          "base_uri": "https://localhost:8080/",
          "height": 51
        },
        "outputId": "e74a5536-0bd9-4ee7-fe0e-c2f930bb48ec"
      },
      "source": [
        "score = model.evaluate(x_test, y_test, verbose=0)\n",
        "print('Test loss:', score[0])\n",
        "print('Test accuracy:', score[1])"
      ],
      "execution_count": 7,
      "outputs": [
        {
          "output_type": "stream",
          "text": [
            "Test loss: 0.07897099114190786\n",
            "Test accuracy: 0.9754999876022339\n"
          ],
          "name": "stdout"
        }
      ]
    },
    {
      "cell_type": "code",
      "metadata": {
        "id": "3kd2KuRjgoUW",
        "colab_type": "code",
        "colab": {
          "base_uri": "https://localhost:8080/",
          "height": 573
        },
        "outputId": "cbbf59ca-1ac8-4b97-b835-58f6aaa5a210"
      },
      "source": [
        "from matplotlib import pyplot as plt\n",
        "\n",
        "# 精度のplot\n",
        "plt.plot(history.history['accuracy'], marker='.', label='accuracy')\n",
        "plt.plot(history.history['val_accuracy'], marker='.', label='val_accuracy')\n",
        "plt.title('model accuracy')\n",
        "plt.grid()\n",
        "plt.xlabel('epoch')\n",
        "plt.ylabel('accuracy')\n",
        "plt.legend(loc='best')\n",
        "plt.show()\n",
        "\n",
        "# 損失のplot\n",
        "plt.plot(history.history['loss'], marker='.', label='loss')\n",
        "plt.plot(history.history['val_loss'], marker='.', label='val_loss')\n",
        "plt.title('model loss')\n",
        "plt.grid()\n",
        "plt.xlabel('epoch')\n",
        "plt.ylabel('loss')\n",
        "plt.legend(loc='best')\n",
        "plt.show()"
      ],
      "execution_count": 9,
      "outputs": [
        {
          "output_type": "display_data",
          "data": {
            "image/png": "[encoded data removed]",
            "text/plain": [
              "<Figure size 432x288 with 1 Axes>"
            ]
          },
          "metadata": {
            "tags": [],
            "needs_background": "light"
          }
        },
        {
          "output_type": "display_data",
          "data": {
            "image/png": "[encoded data removed]",
            "text/plain": [
              "<Figure size 432x288 with 1 Axes>"
            ]
          },
          "metadata": {
            "tags": [],
            "needs_background": "light"
          }
        }
      ]
    },
    {
      "cell_type": "code",
      "metadata": {
        "id": "8Wj_R9zegvfJ",
        "colab_type": "code",
        "colab": {}
      },
      "source": [
        ""
      ],
      "execution_count": null,
      "outputs": []
    }
  ]
}