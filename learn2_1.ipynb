{
  "nbformat": 4,
  "nbformat_minor": 0,
  "metadata": {
    "colab": {
      "name": "Untitled3.ipynb",
      "provenance": [],
      "authorship_tag": "ABX9TyMy7LoQKlTp2z+E0cK2Bw/d",
      "include_colab_link": true
    },
    "kernelspec": {
      "name": "python3",
      "display_name": "Python 3"
    }
  },
  "cells": [
    {
      "cell_type": "markdown",
      "metadata": {
        "id": "view-in-github",
        "colab_type": "text"
      },
      "source": [
        "<a href=\"https://colab.research.google.com/github/snowboarder-hk/hello-world/blob/master/learn2_1.ipynb\" target=\"_parent\"><img src=\"https://colab.research.google.com/assets/colab-badge.svg\" alt=\"Open In Colab\"/></a>"
      ]
    },
    {
      "cell_type": "code",
      "metadata": {
        "id": "MexQ-heMA1M2",
        "colab_type": "code",
        "colab": {
          "base_uri": "https://localhost:8080/",
          "height": 1000
        },
        "outputId": "8480b9b8-f92c-4fa8-d054-60b84151b045"
      },
      "source": [
        "import pip\n",
        "!pip install mglearn\n",
        "\n",
        "import numpy as np\n",
        "import matplotlib.pyplot as plt\n",
        "import mglearn\n",
        "from sklearn.neighbors import KNeighborsRegressor\n",
        "from sklearn.metrics import euclidean_distances\n",
        "\n",
        "#二次元訓練データの生成\n",
        "X,y = mglearn.datasets.make_wave(n_samples=40)\n",
        "\n",
        "print(X)"
      ],
      "execution_count": 1,
      "outputs": [
        {
          "output_type": "stream",
          "text": [
            "Collecting mglearn\n",
            "\u001b[?25l  Downloading https://files.pythonhosted.org/packages/fb/01/8d3630ecc767c9de96a9c46e055f2a3a5f9e14a47d3d0348a36a5005fe67/mglearn-0.1.7.tar.gz (540kB)\n",
            "\u001b[K     |████████████████████████████████| 542kB 2.7MB/s \n",
            "\u001b[?25hRequirement already satisfied: numpy in /usr/local/lib/python3.6/dist-packages (from mglearn) (1.17.5)\n",
            "Requirement already satisfied: matplotlib in /usr/local/lib/python3.6/dist-packages (from mglearn) (3.1.3)\n",
            "Requirement already satisfied: scikit-learn in /usr/local/lib/python3.6/dist-packages (from mglearn) (0.22.1)\n",
            "Requirement already satisfied: pandas in /usr/local/lib/python3.6/dist-packages (from mglearn) (0.25.3)\n",
            "Requirement already satisfied: pillow in /usr/local/lib/python3.6/dist-packages (from mglearn) (6.2.2)\n",
            "Requirement already satisfied: cycler in /usr/local/lib/python3.6/dist-packages (from mglearn) (0.10.0)\n",
            "Requirement already satisfied: imageio in /usr/local/lib/python3.6/dist-packages (from mglearn) (2.4.1)\n",
            "Requirement already satisfied: kiwisolver>=1.0.1 in /usr/local/lib/python3.6/dist-packages (from matplotlib->mglearn) (1.1.0)\n",
            "Requirement already satisfied: python-dateutil>=2.1 in /usr/local/lib/python3.6/dist-packages (from matplotlib->mglearn) (2.6.1)\n",
            "Requirement already satisfied: pyparsing!=2.0.4,!=2.1.2,!=2.1.6,>=2.0.1 in /usr/local/lib/python3.6/dist-packages (from matplotlib->mglearn) (2.4.6)\n",
            "Requirement already satisfied: scipy>=0.17.0 in /usr/local/lib/python3.6/dist-packages (from scikit-learn->mglearn) (1.4.1)\n",
            "Requirement already satisfied: joblib>=0.11 in /usr/local/lib/python3.6/dist-packages (from scikit-learn->mglearn) (0.14.1)\n",
            "Requirement already satisfied: pytz>=2017.2 in /usr/local/lib/python3.6/dist-packages (from pandas->mglearn) (2018.9)\n",
            "Requirement already satisfied: six in /usr/local/lib/python3.6/dist-packages (from cycler->mglearn) (1.12.0)\n",
            "Requirement already satisfied: setuptools in /usr/local/lib/python3.6/dist-packages (from kiwisolver>=1.0.1->matplotlib->mglearn) (45.1.0)\n",
            "Building wheels for collected packages: mglearn\n",
            "  Building wheel for mglearn (setup.py) ... \u001b[?25l\u001b[?25hdone\n",
            "  Created wheel for mglearn: filename=mglearn-0.1.7-py2.py3-none-any.whl size=582705 sha256=98cc00a437102a5fbf807c1ad427c31fcb88e5487928f9e0bd0f262351d73102\n",
            "  Stored in directory: /root/.cache/pip/wheels/74/cf/8d/04f4932d15854a36726c6210763c7127e62de28f5c8ddfcf3b\n",
            "Successfully built mglearn\n",
            "Installing collected packages: mglearn\n",
            "Successfully installed mglearn-0.1.7\n"
          ],
          "name": "stdout"
        },
        {
          "output_type": "stream",
          "text": [
            "/usr/local/lib/python3.6/dist-packages/sklearn/externals/six.py:31: FutureWarning: The module is deprecated in version 0.21 and will be removed in version 0.23 since we've dropped support for Python 2.7. Please rely on the official version of six (https://pypi.org/project/six/).\n",
            "  \"(https://pypi.org/project/six/).\", FutureWarning)\n",
            "/usr/local/lib/python3.6/dist-packages/sklearn/externals/joblib/__init__.py:15: FutureWarning: sklearn.externals.joblib is deprecated in 0.21 and will be removed in 0.23. Please import this functionality directly from joblib, which can be installed with: pip install joblib. If this warning is raised when loading pickled models, you may need to re-serialize those models with scikit-learn 0.21+.\n",
            "  warnings.warn(msg, category=FutureWarning)\n"
          ],
          "name": "stderr"
        },
        {
          "output_type": "stream",
          "text": [
            "[[-0.75275929]\n",
            " [ 2.70428584]\n",
            " [ 1.39196365]\n",
            " [ 0.59195091]\n",
            " [-2.06388816]\n",
            " [-2.06403288]\n",
            " [-2.65149833]\n",
            " [ 2.19705687]\n",
            " [ 0.60669007]\n",
            " [ 1.24843547]\n",
            " [-2.87649303]\n",
            " [ 2.81945911]\n",
            " [ 1.99465584]\n",
            " [-1.72596534]\n",
            " [-1.9090502 ]\n",
            " [-1.89957294]\n",
            " [-1.17454654]\n",
            " [ 0.14853859]\n",
            " [-0.40832989]\n",
            " [-1.25262516]\n",
            " [ 0.67111737]\n",
            " [-2.16303684]\n",
            " [-1.24713211]\n",
            " [-0.80182894]\n",
            " [-0.26358009]\n",
            " [ 1.71105577]\n",
            " [-1.80195731]\n",
            " [ 0.08540663]\n",
            " [ 0.55448741]\n",
            " [-2.72129752]\n",
            " [ 0.64526911]\n",
            " [-1.97685526]\n",
            " [-2.60969044]\n",
            " [ 2.69331322]\n",
            " [ 2.7937922 ]\n",
            " [ 1.85038409]\n",
            " [-1.17231738]\n",
            " [-2.41396732]\n",
            " [ 1.10539816]\n",
            " [-0.35908504]]\n"
          ],
          "name": "stdout"
        }
      ]
    },
    {
      "cell_type": "code",
      "metadata": {
        "id": "7biZ1ZRKBSkT",
        "colab_type": "code",
        "colab": {
          "base_uri": "https://localhost:8080/",
          "height": 136
        },
        "outputId": "b74ec361-5b4c-4bb7-87e6-ba9cb28efca6"
      },
      "source": [
        "print(y)"
      ],
      "execution_count": 2,
      "outputs": [
        {
          "output_type": "stream",
          "text": [
            "[-0.44822073  0.33122576  0.77932073  0.03497884 -1.38773632 -2.47196233\n",
            " -1.52730805  1.49417157  1.00032374  0.22956153 -1.05979555  0.7789638\n",
            "  0.75418806 -1.51369739 -1.67303415 -0.90496988  0.08448544 -0.52734666\n",
            " -0.54114599 -0.3409073   0.21778193 -1.12469096  0.37299129  0.09756349\n",
            " -0.98618122  0.96695428 -1.13455014  0.69798591  0.43655826 -0.95652133\n",
            "  0.03527881 -2.08581717 -0.47411033  1.53708251  0.86893293  1.87664889\n",
            "  0.0945257  -1.41502356  0.25438895  0.09398858]\n"
          ],
          "name": "stdout"
        }
      ]
    },
    {
      "cell_type": "code",
      "metadata": {
        "id": "pKAqe9nFBaZh",
        "colab_type": "code",
        "colab": {
          "base_uri": "https://localhost:8080/",
          "height": 830
        },
        "outputId": "e429545a-e6a6-4efc-ce10-6a9b27c53571"
      },
      "source": [
        "#2次元データの表示\n",
        "plt.subplots()\n",
        "plt.plot(X,y,\"o\")\n",
        "\n",
        "#値域の設定\n",
        "plt.ylim(-3,3)\n",
        "\n",
        "plt.xlabel(\"Feature\")\n",
        "plt.ylabel(\"Target\")\n",
        "\n",
        "#クラス数kの入力\n",
        "k= int(input(\"k最近傍法のクラス数は?\"))\n",
        "\n",
        "#検証データ(3点)の定義\n",
        "X_test = np.array([[-1.5],[0.9],[1.5]])\n",
        "\n",
        "#訓練データと検証データの距離の計算\n",
        "dist = euclidean_distances(X,X_test)\n",
        "closest = np.argsort(dist,axis=0)\n",
        "\n",
        "#k最近傍法による回帰の実行\n",
        "reg = KNeighborsRegressor(n_neighbors = k).fit(X,y)\n",
        "y_pred = reg.predict(X_test)\n",
        "\n",
        "#k個の最近傍と検証データを直線で結ぶ\n",
        "plt.subplots()\n",
        "for x,y_,neighbors in zip(X_test,y_pred,closest.T):\n",
        "  for neighbor in neighbors[:k]:\n",
        "      plt.arrow(x[0],y_,X[neighbor,0] - x[0],y[neighbor]-y_,head_width=.1,fc=\"y\",ec=\"r\")\n",
        "\n",
        "#訓練データの表示\n",
        "train,= plt.plot(X,y,\"o\")\n",
        "\n",
        "#検証データの表示（橙色の星印）\n",
        "test,=plt.plot(X_test,-3*np.ones(len(X_test)),\"*\",markersize=10)\n",
        "\n",
        "#予測値の表示（緑色の星印）\n",
        "pred, = plt.plot(X_test,y_pred,\"*\",markersize=10)\n",
        "\n",
        "#検証データを通る垂線の表示\n",
        "plt.vlines(X_test,-3.1,3.1,linestyle=\"--\")\n",
        "\n",
        "#値域の設定\n",
        "plt.ylim(-3.1,3.1)\n",
        "\n",
        "#軸ラベルの表示\n",
        "plt.xlabel(\"Feature\")\n",
        "plt.ylabel(\"Target\")\n",
        "\n",
        "#凡例の表示\n",
        "plt.legend([train,test,pred],[\"training data/target\",\"test data\",\"test prediction\"],ncol=2,loc=(-1,2))"
      ],
      "execution_count": 23,
      "outputs": [
        {
          "output_type": "stream",
          "text": [
            "k最近傍法のクラス数は?5\n"
          ],
          "name": "stdout"
        },
        {
          "output_type": "execute_result",
          "data": {
            "text/plain": [
              "<matplotlib.legend.Legend at 0x7faaf9949d30>"
            ]
          },
          "metadata": {
            "tags": []
          },
          "execution_count": 23
        },
        {
          "output_type": "display_data",
          "data": {
            "image/png": "[encoded data removed]",
            "text/plain": [
              "<Figure size 432x288 with 1 Axes>"
            ]
          },
          "metadata": {
            "tags": []
          }
        },
        {
          "output_type": "display_data",
          "data": {
            "image/png": "[encoded data removed]",
            "text/plain": [
              "<Figure size 432x288 with 1 Axes>"
            ]
          },
          "metadata": {
            "tags": []
          }
        }
      ]
    },
    {
      "cell_type": "code",
      "metadata": {
        "id": "Ymfc4NNwDaMK",
        "colab_type": "code",
        "colab": {}
      },
      "source": [
        ""
      ],
      "execution_count": 0,
      "outputs": []
    }
  ]
}