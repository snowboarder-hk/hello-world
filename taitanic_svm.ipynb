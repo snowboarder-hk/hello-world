{
  "nbformat": 4,
  "nbformat_minor": 0,
  "metadata": {
    "colab": {
      "name": "Untitled19.ipynb",
      "provenance": [],
      "authorship_tag": "ABX9TyNMpSCe0b2EyL57XNwLG/ca"
    },
    "kernelspec": {
      "name": "python3",
      "display_name": "Python 3"
    }
  },
  "cells": [
    {
      "cell_type": "code",
      "metadata": {
        "id": "w-uLdEAfSZHA",
        "colab_type": "code",
        "colab": {
          "base_uri": "https://localhost:8080/",
          "height": 717
        },
        "outputId": "3df7ccf7-3102-40fc-e535-c04d0c4c9bae"
      },
      "source": [
        "#ライブラリのインポート\n",
        "import pandas as pd\n",
        "import numpy as np\n",
        "from sklearn import tree\n",
        "\n",
        "#データセット読み込み\n",
        "train = pd.read_csv(\"/content/train.csv\")\n",
        "test = pd.read_csv(\"/content/test.csv\")\n",
        "\n",
        "#train.head()\n",
        "\n",
        "#データセットのサイズ確認\n",
        "test_shape = test.shape\n",
        "train_shape = train.shape\n",
        "#print(test_shape,train_shape)\n",
        "\n",
        "#統計量確認\n",
        "#train.describe() #test.describe()\n",
        "\n",
        "#----欠損データの確認----\n",
        "def kesson_table(df):\n",
        "    null_val = df.isnull().sum() #isnull()は欠損データか否かを返す\n",
        "    percent = 100* df.isnull().sum()/len(df)\n",
        "    kesson_table = pd.concat([null_val,percent],axis=1)#concat は連結、引数のaxisは連結方向\n",
        "    #print(kesson_table)\n",
        "    kesson_table_ren_columns = kesson_table.rename(\n",
        "    columns = {0:\"欠損数\",1:\"%\"})\n",
        "    return kesson_table_ren_columns\n",
        "\n",
        "#Age の欠損データは平均値を代理として使う\n",
        "train[\"Age\"]=train[\"Age\"].fillna(train[\"Age\"].mean()) #fillnaはすべてのnanを指定の値に置き換え\n",
        "\n",
        "#Embarkedの欠損データは最も多いSとする。\n",
        "train[\"Embarked\"] = train[\"Embarked\"].fillna(\"S\")\n",
        "\n",
        "#kesson_table(train)\n",
        "\n",
        "#カテゴリカルなデータを数字に置き換える\n",
        "train[\"Sex\"][train[\"Sex\"] == \"male\"] = 0\n",
        "train[\"Sex\"][train[\"Sex\"] == \"female\"] = 1\n",
        "train[\"Embarked\"][train[\"Embarked\"] == \"S\" ] = 0\n",
        "train[\"Embarked\"][train[\"Embarked\"] == \"C\" ] = 1\n",
        "train[\"Embarked\"][train[\"Embarked\"] == \"Q\"] = 2\n",
        "#train.head()\n",
        "\n",
        "test[\"Sex\"][test[\"Sex\"] == \"male\"] = 0\n",
        "test[\"Sex\"][test[\"Sex\"] == \"female\"] = 1\n",
        "test[\"Embarked\"][test[\"Embarked\"] == \"S\"] = 0\n",
        "test[\"Embarked\"][test[\"Embarked\"] == \"C\"] = 1\n",
        "test[\"Embarked\"][test[\"Embarked\"] == \"Q\"] = 2\n",
        "#test.head()\n",
        "\n",
        "#kesson_table(test)\n",
        "\n",
        "test[\"Age\"] = test[\"Age\"].fillna(test[\"Age\"].mean())\n",
        "test[\"Fare\"] = test[\"Fare\"].fillna(test[\"Fare\"].mean())\n",
        "#kesson_table(test)\n",
        "\n",
        "#trainデータセットを目的変数と説明変数に分ける\n",
        "target = train[\"Survived\"].values\n",
        "\n",
        "features_one = train[[\"Pclass\",\"Age\",\"Sex\",\"Fare\", \"SibSp\", \"Parch\", \"Embarked\"]].values\n",
        "#testデータセットから説明変数の値を取得\n",
        "test_features = test[[\"Pclass\",\"Age\",\"Sex\",\"Fare\", \"SibSp\", \"Parch\", \"Embarked\"]].values\n",
        "\n",
        "#正規化を試みる200518\n",
        "from sklearn import preprocessing\n",
        "ss = preprocessing.StandardScaler()\n",
        "\n",
        "features_one_std = ss.fit_transform(features_one)\n",
        "test_features_std = ss.fit_transform(test_features)"
      ],
      "execution_count": 2,
      "outputs": [
        {
          "output_type": "stream",
          "text": [
            "/usr/local/lib/python3.6/dist-packages/ipykernel_launcher.py:39: SettingWithCopyWarning: \n",
            "A value is trying to be set on a copy of a slice from a DataFrame\n",
            "\n",
            "See the caveats in the documentation: https://pandas.pydata.org/pandas-docs/stable/user_guide/indexing.html#returning-a-view-versus-a-copy\n",
            "/usr/local/lib/python3.6/dist-packages/ipykernel_launcher.py:40: SettingWithCopyWarning: \n",
            "A value is trying to be set on a copy of a slice from a DataFrame\n",
            "\n",
            "See the caveats in the documentation: https://pandas.pydata.org/pandas-docs/stable/user_guide/indexing.html#returning-a-view-versus-a-copy\n",
            "/usr/local/lib/python3.6/dist-packages/ipykernel_launcher.py:41: SettingWithCopyWarning: \n",
            "A value is trying to be set on a copy of a slice from a DataFrame\n",
            "\n",
            "See the caveats in the documentation: https://pandas.pydata.org/pandas-docs/stable/user_guide/indexing.html#returning-a-view-versus-a-copy\n",
            "/usr/local/lib/python3.6/dist-packages/ipykernel_launcher.py:42: SettingWithCopyWarning: \n",
            "A value is trying to be set on a copy of a slice from a DataFrame\n",
            "\n",
            "See the caveats in the documentation: https://pandas.pydata.org/pandas-docs/stable/user_guide/indexing.html#returning-a-view-versus-a-copy\n",
            "/usr/local/lib/python3.6/dist-packages/ipykernel_launcher.py:43: SettingWithCopyWarning: \n",
            "A value is trying to be set on a copy of a slice from a DataFrame\n",
            "\n",
            "See the caveats in the documentation: https://pandas.pydata.org/pandas-docs/stable/user_guide/indexing.html#returning-a-view-versus-a-copy\n",
            "/usr/local/lib/python3.6/dist-packages/ipykernel_launcher.py:46: SettingWithCopyWarning: \n",
            "A value is trying to be set on a copy of a slice from a DataFrame\n",
            "\n",
            "See the caveats in the documentation: https://pandas.pydata.org/pandas-docs/stable/user_guide/indexing.html#returning-a-view-versus-a-copy\n",
            "/usr/local/lib/python3.6/dist-packages/ipykernel_launcher.py:47: SettingWithCopyWarning: \n",
            "A value is trying to be set on a copy of a slice from a DataFrame\n",
            "\n",
            "See the caveats in the documentation: https://pandas.pydata.org/pandas-docs/stable/user_guide/indexing.html#returning-a-view-versus-a-copy\n",
            "/usr/local/lib/python3.6/dist-packages/ipykernel_launcher.py:48: SettingWithCopyWarning: \n",
            "A value is trying to be set on a copy of a slice from a DataFrame\n",
            "\n",
            "See the caveats in the documentation: https://pandas.pydata.org/pandas-docs/stable/user_guide/indexing.html#returning-a-view-versus-a-copy\n",
            "/usr/local/lib/python3.6/dist-packages/ipykernel_launcher.py:49: SettingWithCopyWarning: \n",
            "A value is trying to be set on a copy of a slice from a DataFrame\n",
            "\n",
            "See the caveats in the documentation: https://pandas.pydata.org/pandas-docs/stable/user_guide/indexing.html#returning-a-view-versus-a-copy\n",
            "/usr/local/lib/python3.6/dist-packages/ipykernel_launcher.py:50: SettingWithCopyWarning: \n",
            "A value is trying to be set on a copy of a slice from a DataFrame\n",
            "\n",
            "See the caveats in the documentation: https://pandas.pydata.org/pandas-docs/stable/user_guide/indexing.html#returning-a-view-versus-a-copy\n"
          ],
          "name": "stderr"
        }
      ]
    },
    {
      "cell_type": "code",
      "metadata": {
        "id": "LBhjljFxT9r4",
        "colab_type": "code",
        "colab": {
          "base_uri": "https://localhost:8080/",
          "height": 68
        },
        "outputId": "025b8adb-4cbc-40bd-ed1f-95268e385326"
      },
      "source": [
        "#公差検証\n",
        "from sklearn.model_selection import cross_val_score\n",
        "#SVMによる予測\n",
        "from sklearn.svm import SVC\n",
        "\n",
        "Ctune = np.arange(0.1,1.1,0.05)\n",
        "gammatune = np.arange(0.1,0.3,0.01)\n",
        "maxc = 0.0\n",
        "maxg = 0.0\n",
        "maxscore = 0.0\n",
        "\n",
        "\n",
        "#パラメータの意味参考https://qiita.com/sz_dr/items/f3d6630137b184156a67\n",
        "for i in Ctune:\n",
        "    for j in gammatune:\n",
        "        clf = SVC(kernel=\"rbf\",C=i,gamma=j,random_state=1) #score ???? データセットを拡張して試す\n",
        "        # 交差検証\n",
        "        scores = cross_val_score(clf, features_one_std,target)\n",
        "        # スコアの平均値\n",
        "        if maxscore <= np.mean(scores):\n",
        "            maxc = i\n",
        "            maxg = j\n",
        "            maxscore = np.mean(scores)\n",
        "print(maxscore)\n",
        "print(maxc)\n",
        "print(maxg)"
      ],
      "execution_count": 3,
      "outputs": [
        {
          "output_type": "stream",
          "text": [
            "0.8327663046889713\n",
            "0.7000000000000002\n",
            "0.15999999999999998\n"
          ],
          "name": "stdout"
        }
      ]
    },
    {
      "cell_type": "code",
      "metadata": {
        "id": "lwPgb6ORV71M",
        "colab_type": "code",
        "colab": {
          "base_uri": "https://localhost:8080/",
          "height": 51
        },
        "outputId": "95ee49d8-c934-4601-94e0-1bd624c11a21"
      },
      "source": [
        "clf = SVC(kernel=\"rbf\",C=1.05,gamma=0.18,random_state=1)\n",
        "clf.fit(features_one_std,target)\n",
        "print(clf.score(features_one_std,target))\n",
        "\n",
        "scores = cross_val_score(clf,features_one_std,target)\n",
        "print(np.mean(scores))"
      ],
      "execution_count": 4,
      "outputs": [
        {
          "output_type": "stream",
          "text": [
            "0.8462401795735129\n",
            "0.828278199736363\n"
          ],
          "name": "stdout"
        }
      ]
    },
    {
      "cell_type": "code",
      "metadata": {
        "id": "otjhhieHWOs2",
        "colab_type": "code",
        "colab": {}
      },
      "source": [
        "pred = clf.predict(test_features_std)\n",
        "\n",
        "# PassengerIDを取得\n",
        "PassengerId = np.array(test[\"PassengerId\"]).astype(int)\n",
        "\n",
        "# my_predictionとPassengerIdをデータフレームへ落とし込む\n",
        "my_solution = pd.DataFrame(pred,PassengerId,columns = [\"Survived\"])\n",
        "\n",
        "# my_tree_one.csvとして出力\n",
        "my_solution.to_csv(\"/content/my_svm_one.csv\",index_label = [\"PassengerId\"])"
      ],
      "execution_count": 6,
      "outputs": []
    },
    {
      "cell_type": "code",
      "metadata": {
        "id": "kFroI0J1WVHE",
        "colab_type": "code",
        "colab": {}
      },
      "source": [
        ""
      ],
      "execution_count": null,
      "outputs": []
    }
  ]
}